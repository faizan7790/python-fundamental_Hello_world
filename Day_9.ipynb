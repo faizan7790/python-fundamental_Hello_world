{
 "cells": [
  {
   "cell_type": "code",
   "execution_count": null,
   "metadata": {},
   "outputs": [],
   "source": [
    "Continuation of dictionary."
   ]
  },
  {
   "cell_type": "code",
   "execution_count": null,
   "metadata": {},
   "outputs": [],
   "source": []
  },
  {
   "cell_type": "code",
   "execution_count": null,
   "metadata": {},
   "outputs": [],
   "source": [
    "implementaion of for loops on top a dictionay :"
   ]
  },
  {
   "cell_type": "code",
   "execution_count": 1,
   "metadata": {},
   "outputs": [],
   "source": [
    "useraccount = {'usernamer':'codetraining','First_name':'code','last_name':'traning','pws':12345,'dob':'10-10-1999'}"
   ]
  },
  {
   "cell_type": "code",
   "execution_count": null,
   "metadata": {},
   "outputs": [],
   "source": [
    "general syntax of a for loop in a dict."
   ]
  },
  {
   "cell_type": "code",
   "execution_count": null,
   "metadata": {},
   "outputs": [],
   "source": [
    "for k,v in mainvar:     # where as k , v are tempvar1 and tempvar2, Why 2 temp values because here it is key and value pairs.\n",
    "    print(k)\n",
    "    print(v)"
   ]
  },
  {
   "cell_type": "code",
   "execution_count": 2,
   "metadata": {},
   "outputs": [
    {
     "name": "stdout",
     "output_type": "stream",
     "text": [
      "{'usernamer': 'codetraining', 'First_name': 'code', 'last_name': 'traning', 'pws': 12345, 'dob': '10-10-1999'}\n"
     ]
    }
   ],
   "source": [
    "print(useraccount)"
   ]
  },
  {
   "cell_type": "code",
   "execution_count": 4,
   "metadata": {},
   "outputs": [
    {
     "name": "stdout",
     "output_type": "stream",
     "text": [
      "usernamer\n",
      "codetraining\n",
      "First_name\n",
      "code\n",
      "last_name\n",
      "traning\n",
      "pws\n",
      "12345\n",
      "dob\n",
      "10-10-1999\n"
     ]
    }
   ],
   "source": [
    "for k,v in useraccount.items():\n",
    "    print(k)\n",
    "    print(v)"
   ]
  },
  {
   "cell_type": "code",
   "execution_count": 9,
   "metadata": {},
   "outputs": [
    {
     "name": "stdout",
     "output_type": "stream",
     "text": [
      "key: usernamer\n",
      "value:codetraining\n",
      "\n",
      "key: First_name\n",
      "value:code\n",
      "\n",
      "key: last_name\n",
      "value:traning\n",
      "\n",
      "key: pws\n",
      "value:12345\n",
      "\n",
      "key: dob\n",
      "value:10-10-1999\n",
      "\n"
     ]
    }
   ],
   "source": [
    "for k,v in useraccount.items():  #.items() because it is dict here.\n",
    "    print(f\"key: {k}\")\n",
    "    print(f\"value:{v}\\n\")"
   ]
  },
  {
   "cell_type": "code",
   "execution_count": null,
   "metadata": {},
   "outputs": [],
   "source": [
    "req : i want to get only keys."
   ]
  },
  {
   "cell_type": "code",
   "execution_count": 10,
   "metadata": {},
   "outputs": [
    {
     "name": "stdout",
     "output_type": "stream",
     "text": [
      "usernamer\n",
      "First_name\n",
      "last_name\n",
      "pws\n",
      "dob\n"
     ]
    }
   ],
   "source": [
    "for x in useraccount.keys(): # .keys because to get only key pairs.\n",
    "    print(x)\n",
    "    "
   ]
  },
  {
   "cell_type": "code",
   "execution_count": 13,
   "metadata": {},
   "outputs": [
    {
     "name": "stdout",
     "output_type": "stream",
     "text": [
      "key:usernamer\n",
      "key:First_name\n",
      "key:last_name\n",
      "key:pws\n",
      "key:dob\n"
     ]
    }
   ],
   "source": [
    "for x in useraccount.keys():\n",
    "    print(f\"key:{x}\")\n",
    "    "
   ]
  },
  {
   "cell_type": "code",
   "execution_count": null,
   "metadata": {},
   "outputs": [],
   "source": []
  },
  {
   "cell_type": "code",
   "execution_count": null,
   "metadata": {},
   "outputs": [],
   "source": [
    "req : i want to get only values from the dict."
   ]
  },
  {
   "cell_type": "code",
   "execution_count": null,
   "metadata": {},
   "outputs": [],
   "source": []
  },
  {
   "cell_type": "code",
   "execution_count": 14,
   "metadata": {},
   "outputs": [
    {
     "name": "stdout",
     "output_type": "stream",
     "text": [
      "codetraining\n",
      "code\n",
      "traning\n",
      "12345\n",
      "10-10-1999\n"
     ]
    }
   ],
   "source": [
    "for x in useraccount.values(): # .values because to get only key pairs.\n",
    "    print(x)"
   ]
  },
  {
   "cell_type": "code",
   "execution_count": 16,
   "metadata": {},
   "outputs": [
    {
     "name": "stdout",
     "output_type": "stream",
     "text": [
      "Value:usernamer\n",
      "Value:First_name\n",
      "Value:last_name\n",
      "Value:pws\n",
      "Value:dob\n"
     ]
    }
   ],
   "source": [
    "for x in useraccount.keys():\n",
    "    print(f\"Value:{x}\")\n",
    "    "
   ]
  },
  {
   "cell_type": "code",
   "execution_count": null,
   "metadata": {},
   "outputs": [],
   "source": []
  },
  {
   "cell_type": "code",
   "execution_count": null,
   "metadata": {},
   "outputs": [],
   "source": []
  },
  {
   "cell_type": "code",
   "execution_count": null,
   "metadata": {},
   "outputs": [],
   "source": []
  },
  {
   "cell_type": "code",
   "execution_count": null,
   "metadata": {},
   "outputs": [],
   "source": []
  },
  {
   "cell_type": "code",
   "execution_count": null,
   "metadata": {},
   "outputs": [],
   "source": []
  },
  {
   "cell_type": "code",
   "execution_count": null,
   "metadata": {},
   "outputs": [],
   "source": []
  }
 ],
 "metadata": {
  "kernelspec": {
   "display_name": "Python 3",
   "language": "python",
   "name": "python3"
  },
  "language_info": {
   "codemirror_mode": {
    "name": "ipython",
    "version": 3
   },
   "file_extension": ".py",
   "mimetype": "text/x-python",
   "name": "python",
   "nbconvert_exporter": "python",
   "pygments_lexer": "ipython3",
   "version": "3.7.4"
  }
 },
 "nbformat": 4,
 "nbformat_minor": 2
}
